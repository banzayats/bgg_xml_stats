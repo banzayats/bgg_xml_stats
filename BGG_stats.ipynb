{
 "cells": [
  {
   "cell_type": "code",
   "execution_count": 1,
   "metadata": {
    "collapsed": true
   },
   "outputs": [],
   "source": [
    "import xml.etree.cElementTree as ET\n",
    "import urllib2\n",
    "import pandas as pd\n",
    "import numpy as np\n",
    "import matplotlib.pyplot as plt"
   ]
  },
  {
   "cell_type": "markdown",
   "metadata": {},
   "source": [
    "Enable IPython to display matplotlib graphs"
   ]
  },
  {
   "cell_type": "code",
   "execution_count": 2,
   "metadata": {
    "collapsed": true
   },
   "outputs": [],
   "source": [
    "%matplotlib inline"
   ]
  },
  {
   "cell_type": "code",
   "execution_count": 3,
   "metadata": {
    "collapsed": true
   },
   "outputs": [],
   "source": [
    "result = pd.DataFrame(columns=('name', 'length', 'date', 'location', 'players'))"
   ]
  },
  {
   "cell_type": "code",
   "execution_count": 4,
   "metadata": {
    "collapsed": true
   },
   "outputs": [],
   "source": [
    "api_link = 'https://boardgamegeek.com/xmlapi2/plays'\n",
    "user = 'banzayats'\n",
    "mindate='2016-01-01'\n",
    "maxdate='2016-12-31'\n",
    "page = 1\n",
    "end = False"
   ]
  },
  {
   "cell_type": "code",
   "execution_count": 5,
   "metadata": {
    "collapsed": true
   },
   "outputs": [],
   "source": [
    "while not end:\n",
    "    url = '{0}?username={1}&mindate={2}&maxdate={3}&page={4}'.format(api_link, user, mindate, maxdate, page)\n",
    "    tree = ET.ElementTree(file=urllib2.urlopen(url))\n",
    "    plays = tree.getroot()\n",
    "    if len(plays) < 100:\n",
    "        end = True\n",
    "    for i,play in enumerate(plays.findall(\".//play[@quantity='1']\")):\n",
    "        length = play.attrib['length']\n",
    "        date = play.attrib['date']\n",
    "        location = play.attrib['location']\n",
    "        name = play[0].attrib['name'].encode(\"utf-8\")\n",
    "        players = len(play.find('players').findall('player'))\n",
    "        pointer = i + 100 * (page - 1)\n",
    "        result.loc[pointer] = [name, length, date, location, players]\n",
    "    page += 1"
   ]
  },
  {
   "cell_type": "code",
   "execution_count": 6,
   "metadata": {
    "collapsed": false
   },
   "outputs": [
    {
     "data": {
      "text/html": [
       "<div>\n",
       "<table border=\"1\" class=\"dataframe\">\n",
       "  <thead>\n",
       "    <tr style=\"text-align: right;\">\n",
       "      <th></th>\n",
       "      <th>name</th>\n",
       "      <th>length</th>\n",
       "      <th>date</th>\n",
       "      <th>location</th>\n",
       "      <th>players</th>\n",
       "    </tr>\n",
       "  </thead>\n",
       "  <tbody>\n",
       "    <tr>\n",
       "      <th>0</th>\n",
       "      <td>Castles of Mad King Ludwig</td>\n",
       "      <td>50</td>\n",
       "      <td>2016-12-18</td>\n",
       "      <td>Home</td>\n",
       "      <td>2.0</td>\n",
       "    </tr>\n",
       "    <tr>\n",
       "      <th>1</th>\n",
       "      <td>Eldritch Horror</td>\n",
       "      <td>160</td>\n",
       "      <td>2016-12-17</td>\n",
       "      <td>Home</td>\n",
       "      <td>3.0</td>\n",
       "    </tr>\n",
       "    <tr>\n",
       "      <th>2</th>\n",
       "      <td>7 Wonders Duel</td>\n",
       "      <td>40</td>\n",
       "      <td>2016-12-16</td>\n",
       "      <td>Home</td>\n",
       "      <td>2.0</td>\n",
       "    </tr>\n",
       "    <tr>\n",
       "      <th>3</th>\n",
       "      <td>7 Wonders Duel</td>\n",
       "      <td>40</td>\n",
       "      <td>2016-12-16</td>\n",
       "      <td>Home</td>\n",
       "      <td>2.0</td>\n",
       "    </tr>\n",
       "    <tr>\n",
       "      <th>4</th>\n",
       "      <td>7 Wonders Duel</td>\n",
       "      <td>35</td>\n",
       "      <td>2016-12-14</td>\n",
       "      <td>Home</td>\n",
       "      <td>2.0</td>\n",
       "    </tr>\n",
       "  </tbody>\n",
       "</table>\n",
       "</div>"
      ],
      "text/plain": [
       "                         name length        date location  players\n",
       "0  Castles of Mad King Ludwig     50  2016-12-18     Home      2.0\n",
       "1             Eldritch Horror    160  2016-12-17     Home      3.0\n",
       "2              7 Wonders Duel     40  2016-12-16     Home      2.0\n",
       "3              7 Wonders Duel     40  2016-12-16     Home      2.0\n",
       "4              7 Wonders Duel     35  2016-12-14     Home      2.0"
      ]
     },
     "execution_count": 6,
     "metadata": {},
     "output_type": "execute_result"
    }
   ],
   "source": [
    "result.head()"
   ]
  },
  {
   "cell_type": "code",
   "execution_count": 7,
   "metadata": {
    "collapsed": false
   },
   "outputs": [
    {
     "data": {
      "text/plain": [
       "(335, 5)"
      ]
     },
     "execution_count": 7,
     "metadata": {},
     "output_type": "execute_result"
    }
   ],
   "source": [
    "result.shape"
   ]
  },
  {
   "cell_type": "code",
   "execution_count": 8,
   "metadata": {
    "collapsed": false
   },
   "outputs": [
    {
     "data": {
      "text/plain": [
       "name                object\n",
       "length               int64\n",
       "date        datetime64[ns]\n",
       "location            object\n",
       "players            float64\n",
       "dtype: object"
      ]
     },
     "execution_count": 8,
     "metadata": {},
     "output_type": "execute_result"
    }
   ],
   "source": [
    "result['length'] = result['length'].astype(int)\n",
    "result['date'] = pd.to_datetime(result['date'])\n",
    "result.dtypes"
   ]
  },
  {
   "cell_type": "code",
   "execution_count": 9,
   "metadata": {
    "collapsed": false
   },
   "outputs": [
    {
     "data": {
      "text/plain": [
       "name\n",
       "7 Wonders                                                                   6\n",
       "7 Wonders Duel                                                              9\n",
       "Agricola:  All Creatures Big and Small                                      8\n",
       "Arkham Horror                                                               6\n",
       "BANG!                                                                       2\n",
       "BattleLore (Second Edition)                                                23\n",
       "Between Two Cities                                                          2\n",
       "Bruges                                                                     22\n",
       "Brügge: Die Haustiere                                                       1\n",
       "CV                                                                          6\n",
       "Castles of Mad King Ludwig                                                  3\n",
       "Catan                                                                       6\n",
       "Citadels                                                                    7\n",
       "Colt Express                                                                4\n",
       "Dead of Winter: A Crossroads Game                                           4\n",
       "Dead of Winter: The Long Night                                              2\n",
       "Dixit                                                                       3\n",
       "Dungeoneer: Realm of the Ice Witch                                          3\n",
       "Dungeoneer: Tomb of the Lich Lord                                           3\n",
       "Eldritch Horror                                                            15\n",
       "Epic Spell Wars of the Battle Wizards: Duel at Mt. Skullzfyre               3\n",
       "Five Tribes                                                                 5\n",
       "Frag                                                                        1\n",
       "Hive                                                                        1\n",
       "Imperial Settlers                                                           4\n",
       "Kingsport Festival                                                          3\n",
       "Last Night on Earth: The Zombie Game                                        1\n",
       "Love Letter                                                                 2\n",
       "Machi Koro                                                                  4\n",
       "Mice and Mystics                                                            2\n",
       "                                                                           ..\n",
       "New York 1901                                                               1\n",
       "Patchwork                                                                   3\n",
       "Power Grid                                                                  7\n",
       "Power Grid: Northern Europe/United Kingdom & Ireland                        2\n",
       "Race for the Galaxy                                                        30\n",
       "Robinson Crusoe: Adventures on the Cursed Island                            4\n",
       "Runebound (Second Edition)                                                  1\n",
       "Runebound (Third Edition)                                                   1\n",
       "Runewars                                                                    5\n",
       "Saint Petersburg                                                            7\n",
       "Shadowrun: Crossfire                                                        4\n",
       "Shadows over Camelot                                                        1\n",
       "Small World                                                                14\n",
       "Small World Underground                                                     1\n",
       "Splendor                                                                    9\n",
       "Star Realms                                                                17\n",
       "Star Realms: Crisis – Bases & Battleships                                   1\n",
       "Star Realms: Crisis – Fleets & Fortresses                                   1\n",
       "Star Realms: Crisis – Heroes                                                1\n",
       "Tajemnicze Domostwo                                                         1\n",
       "Talisman (Revised 4th Edition)                                              1\n",
       "The Castles of Burgundy                                                     5\n",
       "Theseus: The Dark Orbit                                                     9\n",
       "Ticket to Ride Map Collection: Volume 1 – Team Asia & Legendary Asia        1\n",
       "Ticket to Ride Map Collection: Volume 2 – India & Switzerland               4\n",
       "Ticket to Ride Map Collection: Volume 5 – United Kingdom & Pennsylvania     1\n",
       "Ticket to Ride: Europe                                                      6\n",
       "Ticket to Ride: Nordic Countries                                            3\n",
       "Twilight Struggle                                                           5\n",
       "Village                                                                     1\n",
       "dtype: int64"
      ]
     },
     "execution_count": 9,
     "metadata": {},
     "output_type": "execute_result"
    }
   ],
   "source": [
    "plays = result[['name','length','date']]\n",
    "games_group = plays.groupby('name')\n",
    "games_group.size()"
   ]
  },
  {
   "cell_type": "markdown",
   "metadata": {},
   "source": []
  },
  {
   "cell_type": "code",
   "execution_count": 10,
   "metadata": {
    "collapsed": false
   },
   "outputs": [
    {
     "data": {
      "text/html": [
       "<div>\n",
       "<table border=\"1\" class=\"dataframe\">\n",
       "  <thead>\n",
       "    <tr style=\"text-align: right;\">\n",
       "      <th></th>\n",
       "      <th>length</th>\n",
       "    </tr>\n",
       "    <tr>\n",
       "      <th>name</th>\n",
       "      <th></th>\n",
       "    </tr>\n",
       "  </thead>\n",
       "  <tbody>\n",
       "    <tr>\n",
       "      <th>BattleLore (Second Edition)</th>\n",
       "      <td>2050</td>\n",
       "    </tr>\n",
       "    <tr>\n",
       "      <th>Eldritch Horror</th>\n",
       "      <td>1660</td>\n",
       "    </tr>\n",
       "    <tr>\n",
       "      <th>Bruges</th>\n",
       "      <td>1615</td>\n",
       "    </tr>\n",
       "    <tr>\n",
       "      <th>Runewars</th>\n",
       "      <td>1600</td>\n",
       "    </tr>\n",
       "    <tr>\n",
       "      <th>Race for the Galaxy</th>\n",
       "      <td>1390</td>\n",
       "    </tr>\n",
       "  </tbody>\n",
       "</table>\n",
       "</div>"
      ],
      "text/plain": [
       "                             length\n",
       "name                               \n",
       "BattleLore (Second Edition)    2050\n",
       "Eldritch Horror                1660\n",
       "Bruges                         1615\n",
       "Runewars                       1600\n",
       "Race for the Galaxy            1390"
      ]
     },
     "execution_count": 10,
     "metadata": {},
     "output_type": "execute_result"
    }
   ],
   "source": [
    "games_length = games_group.sum()\n",
    "games_length.sort_values('length', ascending=False).head()"
   ]
  },
  {
   "cell_type": "code",
   "execution_count": null,
   "metadata": {
    "collapsed": true
   },
   "outputs": [],
   "source": []
  }
 ],
 "metadata": {
  "kernelspec": {
   "display_name": "Python 2",
   "language": "python",
   "name": "python2"
  },
  "language_info": {
   "codemirror_mode": {
    "name": "ipython",
    "version": 2
   },
   "file_extension": ".py",
   "mimetype": "text/x-python",
   "name": "python",
   "nbconvert_exporter": "python",
   "pygments_lexer": "ipython2",
   "version": "2.7.5"
  }
 },
 "nbformat": 4,
 "nbformat_minor": 0
}
