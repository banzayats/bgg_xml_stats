{
 "cells": [
  {
   "cell_type": "code",
   "execution_count": 1,
   "metadata": {
    "collapsed": true
   },
   "outputs": [],
   "source": [
    "import xml.etree.cElementTree as ET\n",
    "import urllib2\n",
    "import pandas as pd\n",
    "import numpy as np\n",
    "import matplotlib.pyplot as plt\n",
    "import calendar"
   ]
  },
  {
   "cell_type": "markdown",
   "metadata": {},
   "source": [
    "Enable IPython to display matplotlib graphs and select style"
   ]
  },
  {
   "cell_type": "code",
   "execution_count": 2,
   "metadata": {
    "collapsed": true
   },
   "outputs": [],
   "source": [
    "%matplotlib inline\n",
    "plt.style.use('ggplot')"
   ]
  },
  {
   "cell_type": "markdown",
   "metadata": {},
   "source": [
    "Setup parameters"
   ]
  },
  {
   "cell_type": "code",
   "execution_count": 3,
   "metadata": {
    "collapsed": true
   },
   "outputs": [],
   "source": [
    "USER = 'banzayats'\n",
    "MINDATE='2017-01-01'\n",
    "MAXDATE='2017-12-31'"
   ]
  },
  {
   "cell_type": "code",
   "execution_count": 4,
   "metadata": {
    "collapsed": true
   },
   "outputs": [],
   "source": [
    "def get_gamedata(user, mindate, maxdate):\n",
    "    dataframe = pd.DataFrame(columns=('Name', 'Length', 'Date', 'Location', 'Players', 'Winner'))\n",
    "    API_LINK = 'https://boardgamegeek.com/xmlapi2/plays'\n",
    "    page = 1\n",
    "    end = False\n",
    "    while not end:\n",
    "        url = '{0}?username={1}&mindate={2}&maxdate={3}&page={4}'.format(API_LINK, user, mindate, maxdate, page)\n",
    "        tree = ET.ElementTree(file=urllib2.urlopen(url))\n",
    "        plays = tree.getroot()\n",
    "        if len(plays) < 100:\n",
    "            end = True\n",
    "        for i,play in enumerate(plays.findall(\".//play[@quantity='1']\")):\n",
    "            length = play.attrib['length']\n",
    "            date = play.attrib['date']\n",
    "            location = play.attrib['location']\n",
    "            name = play[0].attrib['name'].encode(\"utf-8\")\n",
    "            players = len(play.find('players').findall('player'))\n",
    "            # Getting winners\n",
    "            winners = play.findall(\".//player[@win='1']\")\n",
    "            if len(winners) > 1:\n",
    "                winner = \"Team\"\n",
    "            elif len(winners) == 0:\n",
    "                winner = \"No-one\"\n",
    "            else:\n",
    "                winner = winners[0].attrib['name']\n",
    "            # Writing dataframe\n",
    "            pointer = i + 100 * (page - 1)\n",
    "            dataframe.loc[pointer] = [name, length, date, location, players, winner]\n",
    "        page += 1\n",
    "    dataframe['Date'] = pd.to_datetime(dataframe['Date'])\n",
    "    return dataframe"
   ]
  },
  {
   "cell_type": "code",
   "execution_count": 5,
   "metadata": {},
   "outputs": [
    {
     "data": {
      "text/html": [
       "<div>\n",
       "<style>\n",
       "    .dataframe thead tr:only-child th {\n",
       "        text-align: right;\n",
       "    }\n",
       "\n",
       "    .dataframe thead th {\n",
       "        text-align: left;\n",
       "    }\n",
       "\n",
       "    .dataframe tbody tr th {\n",
       "        vertical-align: top;\n",
       "    }\n",
       "</style>\n",
       "<table border=\"1\" class=\"dataframe\">\n",
       "  <thead>\n",
       "    <tr style=\"text-align: right;\">\n",
       "      <th></th>\n",
       "      <th>Name</th>\n",
       "      <th>Length</th>\n",
       "      <th>Date</th>\n",
       "      <th>Location</th>\n",
       "      <th>Players</th>\n",
       "      <th>Winner</th>\n",
       "    </tr>\n",
       "  </thead>\n",
       "  <tbody>\n",
       "    <tr>\n",
       "      <th>0</th>\n",
       "      <td>Roll for the Galaxy</td>\n",
       "      <td>60</td>\n",
       "      <td>2017-12-26</td>\n",
       "      <td>Home</td>\n",
       "      <td>2</td>\n",
       "      <td>Vadim</td>\n",
       "    </tr>\n",
       "    <tr>\n",
       "      <th>1</th>\n",
       "      <td>7 Wonders Duel</td>\n",
       "      <td>40</td>\n",
       "      <td>2017-12-24</td>\n",
       "      <td>Home</td>\n",
       "      <td>2</td>\n",
       "      <td>Vadim</td>\n",
       "    </tr>\n",
       "    <tr>\n",
       "      <th>2</th>\n",
       "      <td>Mysterium</td>\n",
       "      <td>30</td>\n",
       "      <td>2017-12-24</td>\n",
       "      <td>Kirill's home</td>\n",
       "      <td>3</td>\n",
       "      <td>No-one</td>\n",
       "    </tr>\n",
       "    <tr>\n",
       "      <th>3</th>\n",
       "      <td>Mysterium</td>\n",
       "      <td>60</td>\n",
       "      <td>2017-12-24</td>\n",
       "      <td>Kirill's home</td>\n",
       "      <td>3</td>\n",
       "      <td>No-one</td>\n",
       "    </tr>\n",
       "    <tr>\n",
       "      <th>4</th>\n",
       "      <td>Mysterium</td>\n",
       "      <td>30</td>\n",
       "      <td>2017-12-24</td>\n",
       "      <td>Kirill's home</td>\n",
       "      <td>3</td>\n",
       "      <td>No-one</td>\n",
       "    </tr>\n",
       "  </tbody>\n",
       "</table>\n",
       "</div>"
      ],
      "text/plain": [
       "                  Name Length       Date       Location Players  Winner\n",
       "0  Roll for the Galaxy     60 2017-12-26           Home       2   Vadim\n",
       "1       7 Wonders Duel     40 2017-12-24           Home       2   Vadim\n",
       "2            Mysterium     30 2017-12-24  Kirill's home       3  No-one\n",
       "3            Mysterium     60 2017-12-24  Kirill's home       3  No-one\n",
       "4            Mysterium     30 2017-12-24  Kirill's home       3  No-one"
      ]
     },
     "execution_count": 5,
     "metadata": {},
     "output_type": "execute_result"
    }
   ],
   "source": [
    "df = get_gamedata(USER, MINDATE, MAXDATE)\n",
    "df.head()"
   ]
  },
  {
   "cell_type": "code",
   "execution_count": 6,
   "metadata": {},
   "outputs": [
    {
     "data": {
      "text/plain": [
       "(169, 6)"
      ]
     },
     "execution_count": 6,
     "metadata": {},
     "output_type": "execute_result"
    }
   ],
   "source": [
    "df.shape"
   ]
  },
  {
   "cell_type": "code",
   "execution_count": 7,
   "metadata": {},
   "outputs": [
    {
     "data": {
      "text/plain": [
       "Name                object\n",
       "Length               int32\n",
       "Date        datetime64[ns]\n",
       "Location            object\n",
       "Players             object\n",
       "Winner              object\n",
       "dtype: object"
      ]
     },
     "execution_count": 7,
     "metadata": {},
     "output_type": "execute_result"
    }
   ],
   "source": [
    "df['Length'] = df['Length'].astype(int)\n",
    "df.dtypes"
   ]
  },
  {
   "cell_type": "code",
   "execution_count": 8,
   "metadata": {
    "scrolled": true
   },
   "outputs": [
    {
     "data": {
      "text/html": [
       "<div>\n",
       "<style>\n",
       "    .dataframe thead tr:only-child th {\n",
       "        text-align: right;\n",
       "    }\n",
       "\n",
       "    .dataframe thead th {\n",
       "        text-align: left;\n",
       "    }\n",
       "\n",
       "    .dataframe tbody tr th {\n",
       "        vertical-align: top;\n",
       "    }\n",
       "</style>\n",
       "<table border=\"1\" class=\"dataframe\">\n",
       "  <thead>\n",
       "    <tr style=\"text-align: right;\">\n",
       "      <th></th>\n",
       "      <th>index</th>\n",
       "      <th>Name</th>\n",
       "      <th>Count</th>\n",
       "      <th>Length</th>\n",
       "      <th>Rank</th>\n",
       "    </tr>\n",
       "  </thead>\n",
       "  <tbody>\n",
       "    <tr>\n",
       "      <th>0</th>\n",
       "      <td>1</td>\n",
       "      <td>7 Wonders Duel</td>\n",
       "      <td>28</td>\n",
       "      <td>17.483333</td>\n",
       "      <td>489.533333</td>\n",
       "    </tr>\n",
       "    <tr>\n",
       "      <th>1</th>\n",
       "      <td>23</td>\n",
       "      <td>Race for the Galaxy</td>\n",
       "      <td>16</td>\n",
       "      <td>9.583333</td>\n",
       "      <td>153.333333</td>\n",
       "    </tr>\n",
       "    <tr>\n",
       "      <th>2</th>\n",
       "      <td>18</td>\n",
       "      <td>Mysterium</td>\n",
       "      <td>15</td>\n",
       "      <td>9.333333</td>\n",
       "      <td>140.000000</td>\n",
       "    </tr>\n",
       "    <tr>\n",
       "      <th>3</th>\n",
       "      <td>34</td>\n",
       "      <td>Terraforming Mars</td>\n",
       "      <td>8</td>\n",
       "      <td>16.583333</td>\n",
       "      <td>132.666667</td>\n",
       "    </tr>\n",
       "    <tr>\n",
       "      <th>4</th>\n",
       "      <td>14</td>\n",
       "      <td>Eldritch Horror</td>\n",
       "      <td>7</td>\n",
       "      <td>14.500000</td>\n",
       "      <td>101.500000</td>\n",
       "    </tr>\n",
       "    <tr>\n",
       "      <th>5</th>\n",
       "      <td>6</td>\n",
       "      <td>Bruges</td>\n",
       "      <td>10</td>\n",
       "      <td>8.916667</td>\n",
       "      <td>89.166667</td>\n",
       "    </tr>\n",
       "    <tr>\n",
       "      <th>6</th>\n",
       "      <td>26</td>\n",
       "      <td>Runewars</td>\n",
       "      <td>4</td>\n",
       "      <td>22.250000</td>\n",
       "      <td>89.000000</td>\n",
       "    </tr>\n",
       "    <tr>\n",
       "      <th>7</th>\n",
       "      <td>8</td>\n",
       "      <td>Castles of Mad King Ludwig</td>\n",
       "      <td>8</td>\n",
       "      <td>8.666667</td>\n",
       "      <td>69.333333</td>\n",
       "    </tr>\n",
       "    <tr>\n",
       "      <th>8</th>\n",
       "      <td>32</td>\n",
       "      <td>Star Wars: Destiny – Two-Player Game</td>\n",
       "      <td>9</td>\n",
       "      <td>7.500000</td>\n",
       "      <td>67.500000</td>\n",
       "    </tr>\n",
       "    <tr>\n",
       "      <th>9</th>\n",
       "      <td>5</td>\n",
       "      <td>BattleLore (Second Edition)</td>\n",
       "      <td>5</td>\n",
       "      <td>9.000000</td>\n",
       "      <td>45.000000</td>\n",
       "    </tr>\n",
       "    <tr>\n",
       "      <th>10</th>\n",
       "      <td>3</td>\n",
       "      <td>Arkham Horror: The Card Game</td>\n",
       "      <td>5</td>\n",
       "      <td>7.166667</td>\n",
       "      <td>35.833333</td>\n",
       "    </tr>\n",
       "    <tr>\n",
       "      <th>11</th>\n",
       "      <td>11</td>\n",
       "      <td>Dead of Winter: The Long Night</td>\n",
       "      <td>4</td>\n",
       "      <td>7.500000</td>\n",
       "      <td>30.000000</td>\n",
       "    </tr>\n",
       "    <tr>\n",
       "      <th>12</th>\n",
       "      <td>31</td>\n",
       "      <td>Splendor</td>\n",
       "      <td>4</td>\n",
       "      <td>3.083333</td>\n",
       "      <td>12.333333</td>\n",
       "    </tr>\n",
       "    <tr>\n",
       "      <th>13</th>\n",
       "      <td>0</td>\n",
       "      <td>7 Wonders</td>\n",
       "      <td>4</td>\n",
       "      <td>2.333333</td>\n",
       "      <td>9.333333</td>\n",
       "    </tr>\n",
       "    <tr>\n",
       "      <th>14</th>\n",
       "      <td>30</td>\n",
       "      <td>Small World Underground</td>\n",
       "      <td>3</td>\n",
       "      <td>3.000000</td>\n",
       "      <td>9.000000</td>\n",
       "    </tr>\n",
       "    <tr>\n",
       "      <th>15</th>\n",
       "      <td>24</td>\n",
       "      <td>Roll for the Galaxy</td>\n",
       "      <td>3</td>\n",
       "      <td>3.000000</td>\n",
       "      <td>9.000000</td>\n",
       "    </tr>\n",
       "    <tr>\n",
       "      <th>16</th>\n",
       "      <td>12</td>\n",
       "      <td>Dixit</td>\n",
       "      <td>3</td>\n",
       "      <td>2.666667</td>\n",
       "      <td>8.000000</td>\n",
       "    </tr>\n",
       "    <tr>\n",
       "      <th>17</th>\n",
       "      <td>22</td>\n",
       "      <td>Power Grid</td>\n",
       "      <td>2</td>\n",
       "      <td>4.000000</td>\n",
       "      <td>8.000000</td>\n",
       "    </tr>\n",
       "    <tr>\n",
       "      <th>18</th>\n",
       "      <td>20</td>\n",
       "      <td>Patchwork</td>\n",
       "      <td>4</td>\n",
       "      <td>1.750000</td>\n",
       "      <td>7.000000</td>\n",
       "    </tr>\n",
       "    <tr>\n",
       "      <th>19</th>\n",
       "      <td>2</td>\n",
       "      <td>Agricola: All Creatures Big and Small</td>\n",
       "      <td>3</td>\n",
       "      <td>1.833333</td>\n",
       "      <td>5.500000</td>\n",
       "    </tr>\n",
       "    <tr>\n",
       "      <th>20</th>\n",
       "      <td>9</td>\n",
       "      <td>Catan</td>\n",
       "      <td>2</td>\n",
       "      <td>2.583333</td>\n",
       "      <td>5.166667</td>\n",
       "    </tr>\n",
       "    <tr>\n",
       "      <th>21</th>\n",
       "      <td>25</td>\n",
       "      <td>Runebound (Third Edition)</td>\n",
       "      <td>1</td>\n",
       "      <td>4.166667</td>\n",
       "      <td>4.166667</td>\n",
       "    </tr>\n",
       "    <tr>\n",
       "      <th>22</th>\n",
       "      <td>17</td>\n",
       "      <td>Love Letter</td>\n",
       "      <td>3</td>\n",
       "      <td>1.333333</td>\n",
       "      <td>4.000000</td>\n",
       "    </tr>\n",
       "    <tr>\n",
       "      <th>23</th>\n",
       "      <td>33</td>\n",
       "      <td>Star Wars: Imperial Assault</td>\n",
       "      <td>2</td>\n",
       "      <td>2.000000</td>\n",
       "      <td>4.000000</td>\n",
       "    </tr>\n",
       "    <tr>\n",
       "      <th>24</th>\n",
       "      <td>10</td>\n",
       "      <td>Citadels</td>\n",
       "      <td>2</td>\n",
       "      <td>1.583333</td>\n",
       "      <td>3.166667</td>\n",
       "    </tr>\n",
       "    <tr>\n",
       "      <th>25</th>\n",
       "      <td>4</td>\n",
       "      <td>BANG!</td>\n",
       "      <td>2</td>\n",
       "      <td>1.500000</td>\n",
       "      <td>3.000000</td>\n",
       "    </tr>\n",
       "    <tr>\n",
       "      <th>26</th>\n",
       "      <td>16</td>\n",
       "      <td>Kingsport Festival</td>\n",
       "      <td>1</td>\n",
       "      <td>2.666667</td>\n",
       "      <td>2.666667</td>\n",
       "    </tr>\n",
       "    <tr>\n",
       "      <th>27</th>\n",
       "      <td>36</td>\n",
       "      <td>Ticket to Ride Map Collection: Volume 1 – Team...</td>\n",
       "      <td>2</td>\n",
       "      <td>1.083333</td>\n",
       "      <td>2.166667</td>\n",
       "    </tr>\n",
       "    <tr>\n",
       "      <th>28</th>\n",
       "      <td>13</td>\n",
       "      <td>Dungeoneer: Tomb of the Lich Lord</td>\n",
       "      <td>1</td>\n",
       "      <td>1.833333</td>\n",
       "      <td>1.833333</td>\n",
       "    </tr>\n",
       "    <tr>\n",
       "      <th>29</th>\n",
       "      <td>28</td>\n",
       "      <td>Shadows over Camelot</td>\n",
       "      <td>1</td>\n",
       "      <td>1.666667</td>\n",
       "      <td>1.666667</td>\n",
       "    </tr>\n",
       "    <tr>\n",
       "      <th>30</th>\n",
       "      <td>7</td>\n",
       "      <td>CV</td>\n",
       "      <td>1</td>\n",
       "      <td>1.500000</td>\n",
       "      <td>1.500000</td>\n",
       "    </tr>\n",
       "    <tr>\n",
       "      <th>31</th>\n",
       "      <td>21</td>\n",
       "      <td>Pixel Tactics 2</td>\n",
       "      <td>1</td>\n",
       "      <td>1.500000</td>\n",
       "      <td>1.500000</td>\n",
       "    </tr>\n",
       "    <tr>\n",
       "      <th>32</th>\n",
       "      <td>29</td>\n",
       "      <td>Small World</td>\n",
       "      <td>1</td>\n",
       "      <td>1.250000</td>\n",
       "      <td>1.250000</td>\n",
       "    </tr>\n",
       "    <tr>\n",
       "      <th>33</th>\n",
       "      <td>35</td>\n",
       "      <td>Theseus: The Dark Orbit</td>\n",
       "      <td>1</td>\n",
       "      <td>1.250000</td>\n",
       "      <td>1.250000</td>\n",
       "    </tr>\n",
       "    <tr>\n",
       "      <th>34</th>\n",
       "      <td>27</td>\n",
       "      <td>Saint Petersburg</td>\n",
       "      <td>1</td>\n",
       "      <td>1.166667</td>\n",
       "      <td>1.166667</td>\n",
       "    </tr>\n",
       "    <tr>\n",
       "      <th>35</th>\n",
       "      <td>19</td>\n",
       "      <td>Neuroshima Hex!</td>\n",
       "      <td>1</td>\n",
       "      <td>0.833333</td>\n",
       "      <td>0.833333</td>\n",
       "    </tr>\n",
       "    <tr>\n",
       "      <th>36</th>\n",
       "      <td>15</td>\n",
       "      <td>Hive</td>\n",
       "      <td>1</td>\n",
       "      <td>0.500000</td>\n",
       "      <td>0.500000</td>\n",
       "    </tr>\n",
       "  </tbody>\n",
       "</table>\n",
       "</div>"
      ],
      "text/plain": [
       "    index                                               Name  Count  \\\n",
       "0       1                                     7 Wonders Duel     28   \n",
       "1      23                                Race for the Galaxy     16   \n",
       "2      18                                          Mysterium     15   \n",
       "3      34                                  Terraforming Mars      8   \n",
       "4      14                                    Eldritch Horror      7   \n",
       "5       6                                             Bruges     10   \n",
       "6      26                                           Runewars      4   \n",
       "7       8                         Castles of Mad King Ludwig      8   \n",
       "8      32               Star Wars: Destiny – Two-Player Game      9   \n",
       "9       5                        BattleLore (Second Edition)      5   \n",
       "10      3                       Arkham Horror: The Card Game      5   \n",
       "11     11                     Dead of Winter: The Long Night      4   \n",
       "12     31                                           Splendor      4   \n",
       "13      0                                          7 Wonders      4   \n",
       "14     30                            Small World Underground      3   \n",
       "15     24                                Roll for the Galaxy      3   \n",
       "16     12                                              Dixit      3   \n",
       "17     22                                         Power Grid      2   \n",
       "18     20                                          Patchwork      4   \n",
       "19      2              Agricola: All Creatures Big and Small      3   \n",
       "20      9                                              Catan      2   \n",
       "21     25                          Runebound (Third Edition)      1   \n",
       "22     17                                        Love Letter      3   \n",
       "23     33                        Star Wars: Imperial Assault      2   \n",
       "24     10                                           Citadels      2   \n",
       "25      4                                              BANG!      2   \n",
       "26     16                                 Kingsport Festival      1   \n",
       "27     36  Ticket to Ride Map Collection: Volume 1 – Team...      2   \n",
       "28     13                  Dungeoneer: Tomb of the Lich Lord      1   \n",
       "29     28                               Shadows over Camelot      1   \n",
       "30      7                                                 CV      1   \n",
       "31     21                                    Pixel Tactics 2      1   \n",
       "32     29                                        Small World      1   \n",
       "33     35                            Theseus: The Dark Orbit      1   \n",
       "34     27                                   Saint Petersburg      1   \n",
       "35     19                                    Neuroshima Hex!      1   \n",
       "36     15                                               Hive      1   \n",
       "\n",
       "       Length        Rank  \n",
       "0   17.483333  489.533333  \n",
       "1    9.583333  153.333333  \n",
       "2    9.333333  140.000000  \n",
       "3   16.583333  132.666667  \n",
       "4   14.500000  101.500000  \n",
       "5    8.916667   89.166667  \n",
       "6   22.250000   89.000000  \n",
       "7    8.666667   69.333333  \n",
       "8    7.500000   67.500000  \n",
       "9    9.000000   45.000000  \n",
       "10   7.166667   35.833333  \n",
       "11   7.500000   30.000000  \n",
       "12   3.083333   12.333333  \n",
       "13   2.333333    9.333333  \n",
       "14   3.000000    9.000000  \n",
       "15   3.000000    9.000000  \n",
       "16   2.666667    8.000000  \n",
       "17   4.000000    8.000000  \n",
       "18   1.750000    7.000000  \n",
       "19   1.833333    5.500000  \n",
       "20   2.583333    5.166667  \n",
       "21   4.166667    4.166667  \n",
       "22   1.333333    4.000000  \n",
       "23   2.000000    4.000000  \n",
       "24   1.583333    3.166667  \n",
       "25   1.500000    3.000000  \n",
       "26   2.666667    2.666667  \n",
       "27   1.083333    2.166667  \n",
       "28   1.833333    1.833333  \n",
       "29   1.666667    1.666667  \n",
       "30   1.500000    1.500000  \n",
       "31   1.500000    1.500000  \n",
       "32   1.250000    1.250000  \n",
       "33   1.250000    1.250000  \n",
       "34   1.166667    1.166667  \n",
       "35   0.833333    0.833333  \n",
       "36   0.500000    0.500000  "
      ]
     },
     "execution_count": 8,
     "metadata": {},
     "output_type": "execute_result"
    }
   ],
   "source": [
    "plays = df[['Name','Length','Date']]\n",
    "games_group = plays.groupby('Name')\n",
    "\n",
    "games_count = pd.DataFrame({'Count' : plays.groupby( ['Name'] ).size()}).reset_index()\n",
    "\n",
    "games_length = games_group.sum().reset_index()\n",
    "\n",
    "# Concatenating two tables and convert game to hours\n",
    "summary = pd.concat([games_count, games_length['Length'].apply(lambda x: x*1/60.0)], axis=1)\n",
    "\n",
    "# The rank is calculated as the product of the number of games for the duration\n",
    "summary['Rank'] = summary.Count * summary.Length\n",
    "summary.sort_values('Rank', ascending=False).reset_index()"
   ]
  },
  {
   "cell_type": "markdown",
   "metadata": {},
   "source": [
    "Total hours spent:"
   ]
  },
  {
   "cell_type": "code",
   "execution_count": 9,
   "metadata": {},
   "outputs": [
    {
     "data": {
      "text/plain": [
       "188.56666666666666"
      ]
     },
     "execution_count": 9,
     "metadata": {},
     "output_type": "execute_result"
    }
   ],
   "source": [
    "summary[\"Length\"].sum()"
   ]
  },
  {
   "cell_type": "code",
   "execution_count": 10,
   "metadata": {},
   "outputs": [
    {
     "data": {
      "text/html": [
       "<div>\n",
       "<style>\n",
       "    .dataframe thead tr:only-child th {\n",
       "        text-align: right;\n",
       "    }\n",
       "\n",
       "    .dataframe thead th {\n",
       "        text-align: left;\n",
       "    }\n",
       "\n",
       "    .dataframe tbody tr th {\n",
       "        vertical-align: top;\n",
       "    }\n",
       "</style>\n",
       "<table border=\"1\" class=\"dataframe\">\n",
       "  <thead>\n",
       "    <tr style=\"text-align: right;\">\n",
       "      <th></th>\n",
       "      <th>index</th>\n",
       "      <th>Name</th>\n",
       "      <th>Length</th>\n",
       "    </tr>\n",
       "  </thead>\n",
       "  <tbody>\n",
       "    <tr>\n",
       "      <th>0</th>\n",
       "      <td>26</td>\n",
       "      <td>Runewars</td>\n",
       "      <td>1335</td>\n",
       "    </tr>\n",
       "    <tr>\n",
       "      <th>1</th>\n",
       "      <td>1</td>\n",
       "      <td>7 Wonders Duel</td>\n",
       "      <td>1049</td>\n",
       "    </tr>\n",
       "    <tr>\n",
       "      <th>2</th>\n",
       "      <td>34</td>\n",
       "      <td>Terraforming Mars</td>\n",
       "      <td>995</td>\n",
       "    </tr>\n",
       "    <tr>\n",
       "      <th>3</th>\n",
       "      <td>14</td>\n",
       "      <td>Eldritch Horror</td>\n",
       "      <td>870</td>\n",
       "    </tr>\n",
       "    <tr>\n",
       "      <th>4</th>\n",
       "      <td>23</td>\n",
       "      <td>Race for the Galaxy</td>\n",
       "      <td>575</td>\n",
       "    </tr>\n",
       "    <tr>\n",
       "      <th>5</th>\n",
       "      <td>18</td>\n",
       "      <td>Mysterium</td>\n",
       "      <td>560</td>\n",
       "    </tr>\n",
       "    <tr>\n",
       "      <th>6</th>\n",
       "      <td>5</td>\n",
       "      <td>BattleLore (Second Edition)</td>\n",
       "      <td>540</td>\n",
       "    </tr>\n",
       "    <tr>\n",
       "      <th>7</th>\n",
       "      <td>6</td>\n",
       "      <td>Bruges</td>\n",
       "      <td>535</td>\n",
       "    </tr>\n",
       "    <tr>\n",
       "      <th>8</th>\n",
       "      <td>8</td>\n",
       "      <td>Castles of Mad King Ludwig</td>\n",
       "      <td>520</td>\n",
       "    </tr>\n",
       "    <tr>\n",
       "      <th>9</th>\n",
       "      <td>11</td>\n",
       "      <td>Dead of Winter: The Long Night</td>\n",
       "      <td>450</td>\n",
       "    </tr>\n",
       "    <tr>\n",
       "      <th>10</th>\n",
       "      <td>32</td>\n",
       "      <td>Star Wars: Destiny – Two-Player Game</td>\n",
       "      <td>450</td>\n",
       "    </tr>\n",
       "    <tr>\n",
       "      <th>11</th>\n",
       "      <td>3</td>\n",
       "      <td>Arkham Horror: The Card Game</td>\n",
       "      <td>430</td>\n",
       "    </tr>\n",
       "    <tr>\n",
       "      <th>12</th>\n",
       "      <td>25</td>\n",
       "      <td>Runebound (Third Edition)</td>\n",
       "      <td>250</td>\n",
       "    </tr>\n",
       "    <tr>\n",
       "      <th>13</th>\n",
       "      <td>22</td>\n",
       "      <td>Power Grid</td>\n",
       "      <td>240</td>\n",
       "    </tr>\n",
       "    <tr>\n",
       "      <th>14</th>\n",
       "      <td>31</td>\n",
       "      <td>Splendor</td>\n",
       "      <td>185</td>\n",
       "    </tr>\n",
       "    <tr>\n",
       "      <th>15</th>\n",
       "      <td>24</td>\n",
       "      <td>Roll for the Galaxy</td>\n",
       "      <td>180</td>\n",
       "    </tr>\n",
       "    <tr>\n",
       "      <th>16</th>\n",
       "      <td>30</td>\n",
       "      <td>Small World Underground</td>\n",
       "      <td>180</td>\n",
       "    </tr>\n",
       "    <tr>\n",
       "      <th>17</th>\n",
       "      <td>12</td>\n",
       "      <td>Dixit</td>\n",
       "      <td>160</td>\n",
       "    </tr>\n",
       "    <tr>\n",
       "      <th>18</th>\n",
       "      <td>16</td>\n",
       "      <td>Kingsport Festival</td>\n",
       "      <td>160</td>\n",
       "    </tr>\n",
       "    <tr>\n",
       "      <th>19</th>\n",
       "      <td>9</td>\n",
       "      <td>Catan</td>\n",
       "      <td>155</td>\n",
       "    </tr>\n",
       "    <tr>\n",
       "      <th>20</th>\n",
       "      <td>0</td>\n",
       "      <td>7 Wonders</td>\n",
       "      <td>140</td>\n",
       "    </tr>\n",
       "    <tr>\n",
       "      <th>21</th>\n",
       "      <td>33</td>\n",
       "      <td>Star Wars: Imperial Assault</td>\n",
       "      <td>120</td>\n",
       "    </tr>\n",
       "    <tr>\n",
       "      <th>22</th>\n",
       "      <td>13</td>\n",
       "      <td>Dungeoneer: Tomb of the Lich Lord</td>\n",
       "      <td>110</td>\n",
       "    </tr>\n",
       "    <tr>\n",
       "      <th>23</th>\n",
       "      <td>2</td>\n",
       "      <td>Agricola: All Creatures Big and Small</td>\n",
       "      <td>110</td>\n",
       "    </tr>\n",
       "    <tr>\n",
       "      <th>24</th>\n",
       "      <td>20</td>\n",
       "      <td>Patchwork</td>\n",
       "      <td>105</td>\n",
       "    </tr>\n",
       "    <tr>\n",
       "      <th>25</th>\n",
       "      <td>28</td>\n",
       "      <td>Shadows over Camelot</td>\n",
       "      <td>100</td>\n",
       "    </tr>\n",
       "    <tr>\n",
       "      <th>26</th>\n",
       "      <td>10</td>\n",
       "      <td>Citadels</td>\n",
       "      <td>95</td>\n",
       "    </tr>\n",
       "    <tr>\n",
       "      <th>27</th>\n",
       "      <td>21</td>\n",
       "      <td>Pixel Tactics 2</td>\n",
       "      <td>90</td>\n",
       "    </tr>\n",
       "    <tr>\n",
       "      <th>28</th>\n",
       "      <td>7</td>\n",
       "      <td>CV</td>\n",
       "      <td>90</td>\n",
       "    </tr>\n",
       "    <tr>\n",
       "      <th>29</th>\n",
       "      <td>4</td>\n",
       "      <td>BANG!</td>\n",
       "      <td>90</td>\n",
       "    </tr>\n",
       "    <tr>\n",
       "      <th>30</th>\n",
       "      <td>17</td>\n",
       "      <td>Love Letter</td>\n",
       "      <td>80</td>\n",
       "    </tr>\n",
       "    <tr>\n",
       "      <th>31</th>\n",
       "      <td>29</td>\n",
       "      <td>Small World</td>\n",
       "      <td>75</td>\n",
       "    </tr>\n",
       "    <tr>\n",
       "      <th>32</th>\n",
       "      <td>35</td>\n",
       "      <td>Theseus: The Dark Orbit</td>\n",
       "      <td>75</td>\n",
       "    </tr>\n",
       "    <tr>\n",
       "      <th>33</th>\n",
       "      <td>27</td>\n",
       "      <td>Saint Petersburg</td>\n",
       "      <td>70</td>\n",
       "    </tr>\n",
       "    <tr>\n",
       "      <th>34</th>\n",
       "      <td>36</td>\n",
       "      <td>Ticket to Ride Map Collection: Volume 1 – Team...</td>\n",
       "      <td>65</td>\n",
       "    </tr>\n",
       "    <tr>\n",
       "      <th>35</th>\n",
       "      <td>19</td>\n",
       "      <td>Neuroshima Hex!</td>\n",
       "      <td>50</td>\n",
       "    </tr>\n",
       "    <tr>\n",
       "      <th>36</th>\n",
       "      <td>15</td>\n",
       "      <td>Hive</td>\n",
       "      <td>30</td>\n",
       "    </tr>\n",
       "  </tbody>\n",
       "</table>\n",
       "</div>"
      ],
      "text/plain": [
       "    index                                               Name  Length\n",
       "0      26                                           Runewars    1335\n",
       "1       1                                     7 Wonders Duel    1049\n",
       "2      34                                  Terraforming Mars     995\n",
       "3      14                                    Eldritch Horror     870\n",
       "4      23                                Race for the Galaxy     575\n",
       "5      18                                          Mysterium     560\n",
       "6       5                        BattleLore (Second Edition)     540\n",
       "7       6                                             Bruges     535\n",
       "8       8                         Castles of Mad King Ludwig     520\n",
       "9      11                     Dead of Winter: The Long Night     450\n",
       "10     32               Star Wars: Destiny – Two-Player Game     450\n",
       "11      3                       Arkham Horror: The Card Game     430\n",
       "12     25                          Runebound (Third Edition)     250\n",
       "13     22                                         Power Grid     240\n",
       "14     31                                           Splendor     185\n",
       "15     24                                Roll for the Galaxy     180\n",
       "16     30                            Small World Underground     180\n",
       "17     12                                              Dixit     160\n",
       "18     16                                 Kingsport Festival     160\n",
       "19      9                                              Catan     155\n",
       "20      0                                          7 Wonders     140\n",
       "21     33                        Star Wars: Imperial Assault     120\n",
       "22     13                  Dungeoneer: Tomb of the Lich Lord     110\n",
       "23      2              Agricola: All Creatures Big and Small     110\n",
       "24     20                                          Patchwork     105\n",
       "25     28                               Shadows over Camelot     100\n",
       "26     10                                           Citadels      95\n",
       "27     21                                    Pixel Tactics 2      90\n",
       "28      7                                                 CV      90\n",
       "29      4                                              BANG!      90\n",
       "30     17                                        Love Letter      80\n",
       "31     29                                        Small World      75\n",
       "32     35                            Theseus: The Dark Orbit      75\n",
       "33     27                                   Saint Petersburg      70\n",
       "34     36  Ticket to Ride Map Collection: Volume 1 – Team...      65\n",
       "35     19                                    Neuroshima Hex!      50\n",
       "36     15                                               Hive      30"
      ]
     },
     "execution_count": 10,
     "metadata": {},
     "output_type": "execute_result"
    }
   ],
   "source": [
    "games_length.sort_values('Length', ascending=False).reset_index()"
   ]
  },
  {
   "cell_type": "code",
   "execution_count": 11,
   "metadata": {},
   "outputs": [
    {
     "data": {
      "text/plain": [
       "<matplotlib.axes._subplots.AxesSubplot at 0xa43c6d8>"
      ]
     },
     "execution_count": 11,
     "metadata": {},
     "output_type": "execute_result"
    },
    {
     "data": {
      "image/png": "[encoded data removed]",
      "text/plain": [
       "<matplotlib.figure.Figure at 0xa43c780>"
      ]
     },
     "metadata": {},
     "output_type": "display_data"
    }
   ],
   "source": [
    "df['Name'].groupby(df.Date.dt.month).count().plot(kind=\"bar\")"
   ]
  },
  {
   "cell_type": "code",
   "execution_count": 12,
   "metadata": {},
   "outputs": [
    {
     "data": {
      "text/html": [
       "<div>\n",
       "<style>\n",
       "    .dataframe thead tr:only-child th {\n",
       "        text-align: right;\n",
       "    }\n",
       "\n",
       "    .dataframe thead th {\n",
       "        text-align: left;\n",
       "    }\n",
       "\n",
       "    .dataframe tbody tr th {\n",
       "        vertical-align: top;\n",
       "    }\n",
       "</style>\n",
       "<table border=\"1\" class=\"dataframe\">\n",
       "  <thead>\n",
       "    <tr style=\"text-align: right;\">\n",
       "      <th></th>\n",
       "      <th>Location</th>\n",
       "      <th>Count</th>\n",
       "    </tr>\n",
       "  </thead>\n",
       "  <tbody>\n",
       "    <tr>\n",
       "      <th>0</th>\n",
       "      <td>Andrew's home</td>\n",
       "      <td>1</td>\n",
       "    </tr>\n",
       "    <tr>\n",
       "      <th>1</th>\n",
       "      <td>Dima's home</td>\n",
       "      <td>30</td>\n",
       "    </tr>\n",
       "    <tr>\n",
       "      <th>2</th>\n",
       "      <td>Father's home</td>\n",
       "      <td>4</td>\n",
       "    </tr>\n",
       "    <tr>\n",
       "      <th>3</th>\n",
       "      <td>Galina's home</td>\n",
       "      <td>2</td>\n",
       "    </tr>\n",
       "    <tr>\n",
       "      <th>4</th>\n",
       "      <td>Home</td>\n",
       "      <td>117</td>\n",
       "    </tr>\n",
       "    <tr>\n",
       "      <th>5</th>\n",
       "      <td>Kirill's home</td>\n",
       "      <td>3</td>\n",
       "    </tr>\n",
       "    <tr>\n",
       "      <th>6</th>\n",
       "      <td>Mirnoe</td>\n",
       "      <td>1</td>\n",
       "    </tr>\n",
       "    <tr>\n",
       "      <th>7</th>\n",
       "      <td>Renata's home</td>\n",
       "      <td>5</td>\n",
       "    </tr>\n",
       "    <tr>\n",
       "      <th>8</th>\n",
       "      <td>Syndicate pub</td>\n",
       "      <td>1</td>\n",
       "    </tr>\n",
       "    <tr>\n",
       "      <th>9</th>\n",
       "      <td>Train</td>\n",
       "      <td>5</td>\n",
       "    </tr>\n",
       "  </tbody>\n",
       "</table>\n",
       "</div>"
      ],
      "text/plain": [
       "        Location  Count\n",
       "0  Andrew's home      1\n",
       "1    Dima's home     30\n",
       "2  Father's home      4\n",
       "3  Galina's home      2\n",
       "4           Home    117\n",
       "5  Kirill's home      3\n",
       "6         Mirnoe      1\n",
       "7  Renata's home      5\n",
       "8  Syndicate pub      1\n",
       "9          Train      5"
      ]
     },
     "execution_count": 12,
     "metadata": {},
     "output_type": "execute_result"
    }
   ],
   "source": [
    "location_count = pd.DataFrame({'Count' : df.groupby( ['Location'] ).size()}).reset_index()\n",
    "location_count"
   ]
  },
  {
   "cell_type": "code",
   "execution_count": 13,
   "metadata": {},
   "outputs": [
    {
     "data": {
      "text/html": [
       "<div>\n",
       "<style>\n",
       "    .dataframe thead tr:only-child th {\n",
       "        text-align: right;\n",
       "    }\n",
       "\n",
       "    .dataframe thead th {\n",
       "        text-align: left;\n",
       "    }\n",
       "\n",
       "    .dataframe tbody tr th {\n",
       "        vertical-align: top;\n",
       "    }\n",
       "</style>\n",
       "<table border=\"1\" class=\"dataframe\">\n",
       "  <thead>\n",
       "    <tr style=\"text-align: right;\">\n",
       "      <th></th>\n",
       "      <th>Players</th>\n",
       "      <th>Count</th>\n",
       "    </tr>\n",
       "  </thead>\n",
       "  <tbody>\n",
       "    <tr>\n",
       "      <th>0</th>\n",
       "      <td>1</td>\n",
       "      <td>5</td>\n",
       "    </tr>\n",
       "    <tr>\n",
       "      <th>1</th>\n",
       "      <td>2</td>\n",
       "      <td>101</td>\n",
       "    </tr>\n",
       "    <tr>\n",
       "      <th>2</th>\n",
       "      <td>3</td>\n",
       "      <td>27</td>\n",
       "    </tr>\n",
       "    <tr>\n",
       "      <th>3</th>\n",
       "      <td>4</td>\n",
       "      <td>31</td>\n",
       "    </tr>\n",
       "    <tr>\n",
       "      <th>4</th>\n",
       "      <td>5</td>\n",
       "      <td>3</td>\n",
       "    </tr>\n",
       "    <tr>\n",
       "      <th>5</th>\n",
       "      <td>6</td>\n",
       "      <td>1</td>\n",
       "    </tr>\n",
       "    <tr>\n",
       "      <th>6</th>\n",
       "      <td>7</td>\n",
       "      <td>1</td>\n",
       "    </tr>\n",
       "  </tbody>\n",
       "</table>\n",
       "</div>"
      ],
      "text/plain": [
       "   Players  Count\n",
       "0        1      5\n",
       "1        2    101\n",
       "2        3     27\n",
       "3        4     31\n",
       "4        5      3\n",
       "5        6      1\n",
       "6        7      1"
      ]
     },
     "execution_count": 13,
     "metadata": {},
     "output_type": "execute_result"
    }
   ],
   "source": [
    "players_count = pd.DataFrame({'Count' : df.groupby( ['Players'] ).size()}).reset_index()\n",
    "players_count"
   ]
  },
  {
   "cell_type": "code",
   "execution_count": 14,
   "metadata": {},
   "outputs": [
    {
     "data": {
      "text/plain": [
       "<matplotlib.axes._subplots.AxesSubplot at 0xaa93cf8>"
      ]
     },
     "execution_count": 14,
     "metadata": {},
     "output_type": "execute_result"
    },
    {
     "data": {
      "image/png": "[encoded data removed]",
      "text/plain": [
       "<matplotlib.figure.Figure at 0xaa7b160>"
      ]
     },
     "metadata": {},
     "output_type": "display_data"
    }
   ],
   "source": [
    "df.Players.value_counts().sort_index().plot(kind='bar')"
   ]
  },
  {
   "cell_type": "code",
   "execution_count": 27,
   "metadata": {
    "collapsed": true
   },
   "outputs": [],
   "source": [
    "df2 = get_gamedata(USER, '2016-01-01', '2016-12-31')\n",
    "df3 = get_gamedata(USER, '2015-01-01', '2015-12-31')\n",
    "df2['Length'] = df2['Length'].astype(int)\n",
    "df3['Length'] = df3['Length'].astype(int)"
   ]
  },
  {
   "cell_type": "code",
   "execution_count": 28,
   "metadata": {},
   "outputs": [
    {
     "data": {
      "image/png": "[encoded data removed]",
      "text/plain": [
       "<matplotlib.figure.Figure at 0xaec3400>"
      ]
     },
     "metadata": {},
     "output_type": "display_data"
    }
   ],
   "source": [
    "ind = np.arange(12)\n",
    "width = 0.2\n",
    "\n",
    "fig = plt.figure(figsize=(16, 10))\n",
    "ax = fig.add_subplot(111)\n",
    "\n",
    "y1 = df['Name'].groupby(df.Date.dt.month).count()\n",
    "y2 = df2['Name'].groupby(df2.Date.dt.month).count()\n",
    "y3 = df3['Name'].groupby(df3.Date.dt.month).count()\n",
    "\n",
    "bar1 = ax.bar(ind+width,y1,width,color=\"#D55E00\",align='center')\n",
    "bar2 = ax.bar(ind,y2,width,color=\"#0072B2\",align='center')\n",
    "bar3 = ax.bar(ind-width,y3,width,color=\"#007200\",align='center')\n",
    "\n",
    "ax.set_xticks(ind)\n",
    "ax.set_xticklabels( [calendar.month_name[i] for i in range(1,13)] )\n",
    "ax.legend( (bar1[0], bar2[0], bar3[0]), ('2017', '2016', '2015') )\n",
    "plt.show()"
   ]
  },
  {
   "cell_type": "code",
   "execution_count": 85,
   "metadata": {},
   "outputs": [
    {
     "data": {
      "image/png": "[encoded data removed]",
      "text/plain": [
       "<matplotlib.figure.Figure at 0x13a84a90>"
      ]
     },
     "metadata": {},
     "output_type": "display_data"
    },
    {
     "data": {
      "image/png": "[encoded data removed]",
      "text/plain": [
       "<matplotlib.figure.Figure at 0x12101390>"
      ]
     },
     "metadata": {},
     "output_type": "display_data"
    }
   ],
   "source": [
    "plt.figure(1)\n",
    "plt.title('2016')\n",
    "df3['Length'].hist()\n",
    "plt.axvline(df3['Length'].mean(), color='k', linestyle='dashed', linewidth=2)\n",
    "\n",
    "plt.figure(2)\n",
    "plt.title('2017')\n",
    "df['Length'].hist()\n",
    "plt.axvline(df['Length'].mean(), color='k', linestyle='dashed', linewidth=2)\n",
    "\n",
    "\n",
    "plt.show()"
   ]
  },
  {
   "cell_type": "code",
   "execution_count": 17,
   "metadata": {},
   "outputs": [
    {
     "data": {
      "text/plain": [
       "<matplotlib.axes._subplots.AxesSubplot at 0xacf1be0>"
      ]
     },
     "execution_count": 17,
     "metadata": {},
     "output_type": "execute_result"
    },
    {
     "data": {
      "image/png": "[encoded data removed]",
      "text/plain": [
       "<matplotlib.figure.Figure at 0xaec3668>"
      ]
     },
     "metadata": {},
     "output_type": "display_data"
    }
   ],
   "source": [
    "rtfg = df[(df.Name == 'Race for the Galaxy')]\n",
    "rtfg['Name'].groupby(rtfg.Date.dt.month).count().plot(kind=\"bar\")"
   ]
  },
  {
   "cell_type": "code",
   "execution_count": 18,
   "metadata": {},
   "outputs": [
    {
     "data": {
      "image/png": "[encoded data removed]",
      "text/plain": [
       "<matplotlib.figure.Figure at 0xb27c208>"
      ]
     },
     "metadata": {},
     "output_type": "display_data"
    },
    {
     "data": {
      "image/png": "[encoded data removed]",
      "text/plain": [
       "<matplotlib.figure.Figure at 0xb28de10>"
      ]
     },
     "metadata": {},
     "output_type": "display_data"
    },
    {
     "data": {
      "image/png": "[encoded data removed]",
      "text/plain": [
       "<matplotlib.figure.Figure at 0xb450940>"
      ]
     },
     "metadata": {},
     "output_type": "display_data"
    }
   ],
   "source": [
    "plt.figure(1)\n",
    "game = df[(df.Name == 'Race for the Galaxy')]\n",
    "labels = game.Players.value_counts().index.tolist()\n",
    "players = game.Players.value_counts(normalize=True).tolist()\n",
    "colors = ['yellowgreen', 'gold', 'lightskyblue']\n",
    "explode = (0.05, 0.05, 0.05)\n",
    "\n",
    "plt.pie(players, explode=explode, labels=labels, colors=colors,\n",
    "        autopct='%1.1f%%', shadow=True, startangle=100)\n",
    "plt.axis('equal')\n",
    "\n",
    "plt.figure(2)\n",
    "game = df[(df.Name == 'Bruges')]\n",
    "labels = game.Players.value_counts().index.tolist()\n",
    "players = game.Players.value_counts(normalize=True).tolist()\n",
    "colors = ['yellowgreen', 'gold', 'lightskyblue']\n",
    "explode = (0.05, 0.05)\n",
    "\n",
    "plt.pie(players, explode=explode, labels=labels, colors=colors,\n",
    "        autopct='%1.1f%%', shadow=True, startangle=100)\n",
    "plt.axis('equal')\n",
    "\n",
    "plt.figure(3)\n",
    "game = df[(df.Name == 'Mysterium')]\n",
    "labels = game.Players.value_counts().index.tolist()\n",
    "players = game.Players.value_counts(normalize=True).tolist()\n",
    "colors = ['yellowgreen', 'gold', 'lightskyblue', 'lightcoral']\n",
    "explode = (0.05, 0.05)\n",
    "\n",
    "plt.pie(players, explode=explode, labels=labels, colors=colors,\n",
    "        autopct='%1.1f%%', shadow=True, startangle=100)\n",
    "plt.axis('equal')\n",
    "\n",
    "plt.show()"
   ]
  },
  {
   "cell_type": "code",
   "execution_count": 19,
   "metadata": {},
   "outputs": [
    {
     "data": {
      "text/plain": [
       "<matplotlib.axes._subplots.AxesSubplot at 0xabb24e0>"
      ]
     },
     "execution_count": 19,
     "metadata": {},
     "output_type": "execute_result"
    },
    {
     "data": {
      "image/png": "[encoded data removed]",
      "text/plain": [
       "<matplotlib.figure.Figure at 0xacd44e0>"
      ]
     },
     "metadata": {},
     "output_type": "display_data"
    }
   ],
   "source": [
    "df.Winner.value_counts().sort_index().plot(kind='bar')"
   ]
  },
  {
   "cell_type": "code",
   "execution_count": 20,
   "metadata": {},
   "outputs": [
    {
     "data": {
      "text/plain": [
       "<matplotlib.axes._subplots.AxesSubplot at 0xabb2550>"
      ]
     },
     "execution_count": 20,
     "metadata": {},
     "output_type": "execute_result"
    },
    {
     "data": {
      "image/png": "[encoded data removed]",
      "text/plain": [
       "<matplotlib.figure.Figure at 0xafb1ef0>"
      ]
     },
     "metadata": {},
     "output_type": "display_data"
    }
   ],
   "source": [
    "df[(df.Location == 'Home')].Winner.value_counts().sort_index().plot(kind='bar')"
   ]
  },
  {
   "cell_type": "code",
   "execution_count": 21,
   "metadata": {},
   "outputs": [
    {
     "data": {
      "text/plain": [
       "<matplotlib.axes._subplots.AxesSubplot at 0xb556b00>"
      ]
     },
     "execution_count": 21,
     "metadata": {},
     "output_type": "execute_result"
    },
    {
     "data": {
      "image/png": "[encoded data removed]",
      "text/plain": [
       "<matplotlib.figure.Figure at 0xb45eac8>"
      ]
     },
     "metadata": {},
     "output_type": "display_data"
    }
   ],
   "source": [
    "df[(df.Location == \"Dima's home\")].Winner.value_counts().sort_index().plot(kind='bar')"
   ]
  },
  {
   "cell_type": "code",
   "execution_count": null,
   "metadata": {
    "collapsed": true
   },
   "outputs": [],
   "source": []
  }
 ],
 "metadata": {
  "kernelspec": {
   "display_name": "Python 2",
   "language": "python",
   "name": "python2"
  },
  "language_info": {
   "codemirror_mode": {
    "name": "ipython",
    "version": 2
   },
   "file_extension": ".py",
   "mimetype": "text/x-python",
   "name": "python",
   "nbconvert_exporter": "python",
   "pygments_lexer": "ipython2",
   "version": "2.7.14"
  }
 },
 "nbformat": 4,
 "nbformat_minor": 1
}
